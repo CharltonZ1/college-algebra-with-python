{
  "nbformat": 4,
  "nbformat_minor": 0,
  "metadata": {
    "colab": {
      "provenance": [],
      "authorship_tag": "ABX9TyNuoRaKBYLg8GeUvPrzqiMM",
      "include_colab_link": true
    },
    "kernelspec": {
      "name": "python3",
      "display_name": "Python 3"
    },
    "language_info": {
      "name": "python"
    }
  },
  "cells": [
    {
      "cell_type": "markdown",
      "metadata": {
        "id": "view-in-github",
        "colab_type": "text"
      },
      "source": [
        "<a href=\"https://colab.research.google.com/github/CharltonZ1/college-algebra-with-python/blob/main/Week_03_fractions_and_decimals.ipynb\" target=\"_parent\"><img src=\"https://colab.research.google.com/assets/colab-badge.svg\" alt=\"Open In Colab\"/></a>"
      ]
    },
    {
      "cell_type": "markdown",
      "source": [
        "Positve and negative exponents"
      ],
      "metadata": {
        "id": "nS9aqTTmGeV8"
      }
    },
    {
      "cell_type": "code",
      "execution_count": null,
      "metadata": {
        "colab": {
          "base_uri": "https://localhost:8080/"
        },
        "id": "b004WVeJEKSe",
        "outputId": "75f64445-61fa-48a9-81f2-74f7dab785d4"
      },
      "outputs": [
        {
          "output_type": "stream",
          "name": "stdout",
          "text": [
            "10\n",
            "100\n",
            "1000\n",
            "1\n",
            "0.1\n",
            "0.01\n",
            "0.001\n"
          ]
        }
      ],
      "source": [
        "print(10**1)\n",
        "print(10**2)\n",
        "print(10**3)\n",
        "\n",
        "print(10**0)\n",
        "\n",
        "print(10**-1)\n",
        "print(10**-2)\n",
        "print(10**-3)"
      ]
    },
    {
      "cell_type": "markdown",
      "source": [
        "User input comes in as a string. YOu can find the length of the string"
      ],
      "metadata": {
        "id": "XrVyds1QHAcn"
      }
    },
    {
      "cell_type": "code",
      "source": [
        "text = input(\"Enter a number\")\n",
        "print(text)\n",
        "\n",
        "print(len(text))\n",
        "\n",
        "# error - can't do math here\n",
        "# print(text + 3)"
      ],
      "metadata": {
        "id": "fmVfKZnuHFCo"
      },
      "execution_count": null,
      "outputs": []
    },
    {
      "cell_type": "markdown",
      "source": [
        "Cast input as a `float` or `int` variable"
      ],
      "metadata": {
        "id": "KnXiFSPrHkLe"
      }
    },
    {
      "cell_type": "code",
      "source": [
        "text = input(\"Enter a number\")\n",
        "num = float(text)\n",
        "print(num + 4)"
      ],
      "metadata": {
        "colab": {
          "base_uri": "https://localhost:8080/"
        },
        "id": "5yj3OyKxHpyB",
        "outputId": "d95ac11b-d15e-4fa6-f76b-eed9f059429b"
      },
      "execution_count": null,
      "outputs": [
        {
          "output_type": "stream",
          "name": "stdout",
          "text": [
            "Enter a number4\n",
            "8.0\n"
          ]
        }
      ]
    },
    {
      "cell_type": "markdown",
      "source": [
        "Now put it all together"
      ],
      "metadata": {
        "id": "jh1o02ELHkKP"
      }
    },
    {
      "cell_type": "code",
      "source": [
        "# Get string input, which will include a decimal point\n",
        "digits = input(\"Enter a decimal number to convert: \")\n",
        "\n",
        "# Get the number of decimal places\n",
        "exponent = len(digits) - 1\n",
        "\n",
        "# Convert the input to a float\n",
        "n = float(digits)\n",
        "\n",
        "# Use the exponent to get the numerator\n",
        "numerator = int(n * 10**exponent)\n",
        "\n",
        "# Use the exponent to get the denominator\n",
        "denominator = 10**exponent\n",
        "\n",
        "# percent is the first two decimal places\n",
        "percent = n * 100\n",
        "\n",
        "# Output\n",
        "print(\"The decimal is\", n)\n",
        "print(\"The fraction is\", numerator, \"/\", denominator)\n",
        "print(\"The percent is\", percent, \"%\")"
      ],
      "metadata": {
        "colab": {
          "base_uri": "https://localhost:8080/"
        },
        "id": "DoRwH5WmH4FT",
        "outputId": "e56f78c9-c3fc-4553-d748-6538b72a2252"
      },
      "execution_count": null,
      "outputs": [
        {
          "output_type": "stream",
          "name": "stdout",
          "text": [
            "Enter a decimal number to convert: .3\n",
            "The decimal is 0.3\n",
            "The fraction is 3 / 10\n",
            "The percent is 30.0 %\n"
          ]
        }
      ]
    }
  ]
}