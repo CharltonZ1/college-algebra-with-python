{
  "nbformat": 4,
  "nbformat_minor": 0,
  "metadata": {
    "colab": {
      "provenance": [],
      "authorship_tag": "ABX9TyOQZPdLSWml2Hth34CNNHtQ",
      "include_colab_link": true
    },
    "kernelspec": {
      "name": "python3",
      "display_name": "Python 3"
    },
    "language_info": {
      "name": "python"
    }
  },
  "cells": [
    {
      "cell_type": "markdown",
      "metadata": {
        "id": "view-in-github",
        "colab_type": "text"
      },
      "source": [
        "<a href=\"https://colab.research.google.com/github/CharltonZ1/college-algebra-with-python/blob/main/Week_06_factoring.ipynb\" target=\"_parent\"><img src=\"https://colab.research.google.com/assets/colab-badge.svg\" alt=\"Open In Colab\"/></a>"
      ]
    },
    {
      "cell_type": "markdown",
      "source": [
        "The modulus(`%`) finds the remainder"
      ],
      "metadata": {
        "id": "CyLNE8ZgRgOK"
      }
    },
    {
      "cell_type": "code",
      "execution_count": null,
      "metadata": {
        "colab": {
          "base_uri": "https://localhost:8080/"
        },
        "id": "pUomt88QRGRB",
        "outputId": "76040bfb-7442-4a87-d13d-2fb293de5220"
      },
      "outputs": [
        {
          "output_type": "stream",
          "name": "stdout",
          "text": [
            "2\n"
          ]
        }
      ],
      "source": [
        "print(5%3)\n",
        "# print(31%10)"
      ]
    },
    {
      "cell_type": "markdown",
      "source": [
        "Use the modulus in a loop to find factors"
      ],
      "metadata": {
        "id": "7T2VHA-oRyHF"
      }
    },
    {
      "cell_type": "code",
      "source": [
        "number = 12\n",
        "\n",
        "for fac in range(1, number+1):\n",
        "  if number % fac == 0:\n",
        "    print(fac)"
      ],
      "metadata": {
        "colab": {
          "base_uri": "https://localhost:8080/"
        },
        "id": "xqIEalzbR1L2",
        "outputId": "aba6e965-0631-411f-80bf-b1095c3484c6"
      },
      "execution_count": null,
      "outputs": [
        {
          "output_type": "stream",
          "name": "stdout",
          "text": [
            "1\n",
            "2\n",
            "3\n",
            "4\n",
            "6\n",
            "12\n"
          ]
        }
      ]
    },
    {
      "cell_type": "markdown",
      "source": [
        "Reduce fraction to lowest term"
      ],
      "metadata": {
        "id": "65zpk-CRSpb6"
      }
    },
    {
      "cell_type": "code",
      "source": [
        "numerator = 12\n",
        "denominator = 24\n",
        "factor = 1\n",
        "\n",
        "# Find greatest common factor\n",
        "for fac in range(1, denominator+1):\n",
        "  if numerator % fac == 0 and denominator % fac == 0:\n",
        "    factor = fac\n",
        "\n",
        "# Dividing out the greatest common factor\n",
        "n = int(numerator/factor)\n",
        "d = int(denominator/factor)\n",
        "\n",
        "print(\"original:\", numerator, \"/\", denominator)\n",
        "print(\"reduced:\", n, \"/\", d)"
      ],
      "metadata": {
        "colab": {
          "base_uri": "https://localhost:8080/"
        },
        "id": "rFLyod6LSsLM",
        "outputId": "2deba3ca-d067-4a81-ed90-f1400b2cc0f6"
      },
      "execution_count": null,
      "outputs": [
        {
          "output_type": "stream",
          "name": "stdout",
          "text": [
            "original: 12 / 24\n",
            "reduced: 1 / 2\n"
          ]
        }
      ]
    },
    {
      "cell_type": "markdown",
      "source": [
        "One step further"
      ],
      "metadata": {
        "id": "_7JzbCZGVOv7"
      }
    },
    {
      "cell_type": "code",
      "source": [
        "# Get the decimal number to convert\n",
        "digits = input(\"Enter a decimal number to convert: \")\n",
        "\n",
        "# Convert to fraction\n",
        "exponent = len(digits) - 1\n",
        "n = float(digits)\n",
        "numerator = int(n * 10**exponent)\n",
        "denominator = 10**exponent\n",
        "\n",
        "# Reduce the fraction\n",
        "factor = 1\n",
        "for fac in range(1, denominator+1):\n",
        "  if numerator % fac == 0 and denominator % fac == 0:\n",
        "    factor = fac\n",
        "\n",
        "# Divide out the greatest common factor\n",
        "num = int(numerator/factor)\n",
        "den = int(denominator/factor)\n",
        "\n",
        "# Output\n",
        "print(\"The decimal is\", n)\n",
        "print(\"The fraction is\", num, \"/\", den)"
      ],
      "metadata": {
        "colab": {
          "base_uri": "https://localhost:8080/"
        },
        "id": "bAVJ5D92VQEN",
        "outputId": "924cf41d-77cf-49f4-a42a-fc4180827b3a"
      },
      "execution_count": null,
      "outputs": [
        {
          "output_type": "stream",
          "name": "stdout",
          "text": [
            "Enter a decimal number to convert: .125\n",
            "The decimal is 0.125\n",
            "The fraction is 1 / 8\n"
          ]
        }
      ]
    },
    {
      "cell_type": "markdown",
      "source": [
        "Factoring square roots"
      ],
      "metadata": {
        "id": "nCByUvRNW0Lj"
      }
    },
    {
      "cell_type": "code",
      "source": [
        "import math\n",
        "\n",
        "print(math.sqrt(4))"
      ],
      "metadata": {
        "colab": {
          "base_uri": "https://localhost:8080/"
        },
        "id": "Ks_aWuBJW-Gf",
        "outputId": "510d47de-ee6d-4f50-f4b1-79df8062238c"
      },
      "execution_count": null,
      "outputs": [
        {
          "output_type": "stream",
          "name": "stdout",
          "text": [
            "2.0\n"
          ]
        }
      ]
    },
    {
      "cell_type": "markdown",
      "source": [
        "Divide out any perfect square factors. For example:<br>\n",
        " $\\sqrt{12}$ = $\\sqrt{4 * 3}$ = 2$\\sqrt{3}$<br>\n",
        "Because 4 is a square number, the square root of 4 is now outside the radical."
      ],
      "metadata": {
        "id": "raHMQ-AIWgUs"
      }
    },
    {
      "cell_type": "code",
      "source": [
        "import math\n",
        "\n",
        "# number to factor\n",
        "n = 12\n",
        "\n",
        "# variable\n",
        "max_factor = 1\n",
        "\n",
        "# The key ingredient\n",
        "upper_limit = math.floor(math.sqrt(n)) + 1\n",
        "\n",
        "# Find square factors\n",
        "for fac in range(1, upper_limit):\n",
        "  if n % (fac**2) == 0:\n",
        "    max_factor = fac\n",
        "\n",
        "# Results so far\n",
        "print(\"n =\", n)\n",
        "print(\"Square rooted factor =\", max_factor)\n",
        "print(\"Square factor =\", max_factor**2)\n",
        "print(\"integer: \", int(n/(max_factor**2)))"
      ],
      "metadata": {
        "colab": {
          "base_uri": "https://localhost:8080/"
        },
        "id": "4dDDrtjNYOWa",
        "outputId": "9bd15208-e9f4-41e4-cf39-fcb11a46b581"
      },
      "execution_count": null,
      "outputs": [
        {
          "output_type": "stream",
          "name": "stdout",
          "text": [
            "n = 12\n",
            "Square rooted factor = 2\n",
            "Square factor = 4\n",
            "integer:  3\n"
          ]
        }
      ]
    },
    {
      "cell_type": "markdown",
      "source": [
        "Using Sympy to bring it all together"
      ],
      "metadata": {
        "id": "dQSkhFmHZR_D"
      }
    },
    {
      "cell_type": "code",
      "source": [
        "import math\n",
        "import sympy\n",
        "from sympy import symbols\n",
        "\n",
        "n = 24\n",
        "\n",
        "# Use variables\n",
        "upper_limit = math.floor(math.sqrt(n)) + 1\n",
        "max_factor = 1\n",
        "other_factor = 1\n",
        "square_root = 1\n",
        "\n",
        "# Updated variable strategy\n",
        "for fac in range(1, upper_limit):\n",
        "  if n % (fac**2) == 0:\n",
        "    max_factor = fac**2\n",
        "\n",
        "# Divide out the greatest square factor\n",
        "other_factor = n / max_factor\n",
        "\n",
        "# Output\n",
        "square_root = int(math.sqrt(max_factor))\n",
        "other_factor = int(other_factor)\n",
        "output = square_root * sympy.sqrt(other_factor)\n",
        "\n",
        "output"
      ],
      "metadata": {
        "colab": {
          "base_uri": "https://localhost:8080/",
          "height": 39
        },
        "id": "kB2KWM7yZWBG",
        "outputId": "f0719662-e985-46ba-f4b4-646ae4726459"
      },
      "execution_count": null,
      "outputs": [
        {
          "output_type": "execute_result",
          "data": {
            "text/plain": [
              "2*sqrt(6)"
            ],
            "text/latex": "$\\displaystyle 2 \\sqrt{6}$"
          },
          "metadata": {},
          "execution_count": 13
        }
      ]
    }
  ]
}