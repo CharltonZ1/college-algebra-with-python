{
  "nbformat": 4,
  "nbformat_minor": 0,
  "metadata": {
    "colab": {
      "provenance": [],
      "toc_visible": true,
      "authorship_tag": "ABX9TyOu7t26zdZi9TGKpwZgcb+x",
      "include_colab_link": true
    },
    "kernelspec": {
      "name": "python3",
      "display_name": "Python 3"
    },
    "language_info": {
      "name": "python"
    }
  },
  "cells": [
    {
      "cell_type": "markdown",
      "metadata": {
        "id": "view-in-github",
        "colab_type": "text"
      },
      "source": [
        "<a href=\"https://colab.research.google.com/github/CharltonZ1/college-algebra-with-python/blob/main/Week_01_ratios_and_proportions.ipynb\" target=\"_parent\"><img src=\"https://colab.research.google.com/assets/colab-badge.svg\" alt=\"Open In Colab\"/></a>"
      ]
    },
    {
      "cell_type": "markdown",
      "source": [
        "# Set up a proportion\n",
        "\n",
        "$\\frac{n1}{d1}$=$\\frac{n2}{d2}$"
      ],
      "metadata": {
        "id": "Lg_9W6lcf1dy"
      }
    },
    {
      "cell_type": "code",
      "execution_count": null,
      "metadata": {
        "colab": {
          "base_uri": "https://localhost:8080/"
        },
        "id": "e1KVotMGXHVz",
        "outputId": "98a14a5d-0eb5-4cde-b7fb-06b8b03687de"
      },
      "outputs": [
        {
          "output_type": "stream",
          "name": "stdout",
          "text": [
            "n2 =  0.7751937984496123\n"
          ]
        }
      ],
      "source": [
        "# Put a zero in for the unkown value\n",
        "n1 = 1\n",
        "d1 = 1.29\n",
        "n2 = 0\n",
        "d2 = 1\n",
        "\n",
        "if n2==0:\n",
        "  answer = d2 * n1 / d1\n",
        "  print(\"n2 = \", answer)\n",
        "\n",
        "if d2==0:\n",
        "  answer = n2 * d1 / n1\n",
        "  print(\"d2 = \", answer)"
      ]
    }
  ]
}